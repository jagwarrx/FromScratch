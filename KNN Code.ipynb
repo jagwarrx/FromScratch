{
 "cells": [
  {
   "cell_type": "code",
   "execution_count": 109,
   "metadata": {
    "collapsed": false
   },
   "outputs": [],
   "source": [
    "# Euclidean distance\n",
    "# sqrt ([n]sigma[i] (ai - pi)^2)\n",
    "from math import sqrt\n",
    "import numpy as np\n",
    "from matplotlib import pyplot as plt\n",
    "from matplotlib import style\n",
    "from collections import Counter\n",
    "import warnings\n",
    "import pandas as pd\n",
    "import random \n",
    "style.use ('fivethirtyeight')"
   ]
  },
  {
   "cell_type": "code",
   "execution_count": 107,
   "metadata": {
    "collapsed": false
   },
   "outputs": [],
   "source": [
    "def euclidean_distance(x , y):\n",
    "    distance = []\n",
    "    for i in range(len(x)):\n",
    "        sum_xy = 0   \n",
    "        for ii in range(len(x[i])):\n",
    "            sum_xy = sum_xy + (x[i][ii] - y[ii])**2\n",
    "        distance.append(sqrt(sum_xy))\n",
    "    return distance"
   ]
  },
  {
   "cell_type": "code",
   "execution_count": 108,
   "metadata": {
    "collapsed": false
   },
   "outputs": [
    {
     "name": "stdout",
     "output_type": "stream",
     "text": [
      "[7.0710678118654755, 4.242640687119285]\n"
     ]
    }
   ],
   "source": [
    "x = [[2,3], [4,5]]\n",
    "y = [7,8]\n",
    "print( euclidean_distance(x,y))"
   ]
  },
  {
   "cell_type": "code",
   "execution_count": 87,
   "metadata": {
    "collapsed": false
   },
   "outputs": [],
   "source": [
    "dataset = {'k': [[1 , 2],[2 , 3], [2, 4]] , 'r': [[5, 6],[7,7],[8,5]]}\n",
    "new_feature = [1,7]"
   ]
  },
  {
   "cell_type": "code",
   "execution_count": 88,
   "metadata": {
    "collapsed": false
   },
   "outputs": [],
   "source": [
    "for i in dataset:\n",
    "    for ii in dataset[i]:\n",
    "        plt.scatter(ii[0], ii[1], s=100, color=i)"
   ]
  },
  {
   "cell_type": "code",
   "execution_count": 89,
   "metadata": {
    "collapsed": false
   },
   "outputs": [
    {
     "data": {
      "image/png": "[encoded data removed]",
      "text/plain": [
       "<matplotlib.figure.Figure at 0x7f0611f90890>"
      ]
     },
     "metadata": {},
     "output_type": "display_data"
    }
   ],
   "source": [
    "plt.scatter(new_feature[0], new_feature[1])\n",
    "plt.show()"
   ]
  },
  {
   "cell_type": "code",
   "execution_count": 163,
   "metadata": {
    "collapsed": false
   },
   "outputs": [],
   "source": [
    "def knn(data, predict, k=3):\n",
    "    if len(data)>=k:\n",
    "        warnings.warn('k is set to value less than total voting groups')\n",
    "    distances = []\n",
    "    for group in data:\n",
    "        for features in data[group]:\n",
    "            euc_dist = np.sqrt(np.sum((np.array(features)- np.array(predict))**2))\n",
    "            # np.linalg.norm(np.array(features) - np.array(predict))\n",
    "            distances.append([euc_dist, group])\n",
    "    #print(sorted(distances)[:k])\n",
    "    votes = [ i[1] for i in sorted(distances)[:k] ]\n",
    "    #print('votes: ', votes)\n",
    "     # 1st result's 1 part gives classification\n",
    "    vote_result = Counter(votes).most_common(1)[0][0]\n",
    "    confidence = Counter(votes).most_common(1)[0][1] / float(k) \n",
    "    print (vote_result, confidence)\n",
    "    return vote_result , confidence"
   ]
  },
  {
   "cell_type": "code",
   "execution_count": 90,
   "metadata": {
    "collapsed": false
   },
   "outputs": [
    {
     "name": "stdout",
     "output_type": "stream",
     "text": [
      "[[3.1622776601683795, 'k'], [4.1231056256176606, 'k'], [4.1231056256176606, 'r']]\n",
      "('votes: ', ['k', 'k', 'r'])\n",
      "k\n"
     ]
    }
   ],
   "source": [
    "result = knn(dataset, new_feature, k=3)\n",
    "print(result)"
   ]
  },
  {
   "cell_type": "code",
   "execution_count": 110,
   "metadata": {
    "collapsed": true
   },
   "outputs": [],
   "source": [
    "# Using WISCONSIN Breast Cancer Data Set \n",
    "\n",
    "# id,clump_thickness,size_uni,shape_uni,marg_adhesion,epith_size,bare_nucleoli,bland_chrom,normal_nucleoli,mitoses,class\n",
    "df = pd.read_csv(\"breast-cancer-wisconsin.data\")\n",
    "\n",
    "# replace missing data as outlier\n",
    "df.replace('?', -99999, inplace = True)\n",
    "\n",
    "# remove non-relavent features\n",
    "df.drop(['id'], 1, inplace=True)\n",
    "\n",
    "# make everything float\n",
    "full_data = df.astype(float).values.tolist()\n",
    "\n"
   ]
  },
  {
   "cell_type": "code",
   "execution_count": 130,
   "metadata": {
    "collapsed": false
   },
   "outputs": [
    {
     "name": "stdout",
     "output_type": "stream",
     "text": [
      "[[1.0, 1.0, 1.0, 1.0, 2.0, 1.0, 3.0, 2.0, 1.0, 2.0], [3.0, 1.0, 1.0, 1.0, 2.0, 1.0, 2.0, 1.0, 1.0, 2.0], [3.0, 1.0, 1.0, 1.0, 2.0, 1.0, 1.0, 1.0, 1.0, 2.0], [7.0, 6.0, 3.0, 2.0, 5.0, 10.0, 7.0, 4.0, 6.0, 4.0], [10.0, 5.0, 7.0, 3.0, 3.0, 7.0, 3.0, 3.0, 8.0, 4.0]]\n",
      "------------------------------------------------------------\n",
      "[[3.0, 4.0, 5.0, 2.0, 6.0, 8.0, 4.0, 1.0, 1.0, 4.0], [1.0, 1.0, 1.0, 1.0, 5.0, 1.0, 3.0, 1.0, 1.0, 2.0], [8.0, 10.0, 10.0, 10.0, 6.0, 10.0, 10.0, 10.0, 1.0, 4.0], [2.0, 1.0, 1.0, 1.0, 2.0, 1.0, 1.0, 1.0, 1.0, 2.0], [9.0, 8.0, 8.0, 9.0, 6.0, 3.0, 4.0, 1.0, 1.0, 4.0]]\n"
     ]
    }
   ],
   "source": [
    "# Shuffle data \n",
    "print(full_data[:5])\n",
    "random.shuffle(full_data)\n",
    "print(20*'---')\n",
    "print(full_data[:5])"
   ]
  },
  {
   "cell_type": "code",
   "execution_count": 131,
   "metadata": {
    "collapsed": true
   },
   "outputs": [],
   "source": [
    "# Slice the data\n",
    "test_size = 0.2\n",
    "\n",
    "train_set = { 2:[] , 4:[] }\n",
    "test_set = { 2:[] , 4:[] }\n",
    "\n",
    "# last 20% for test\n",
    "train_data = full_data[:-int(test_size* len(full_data))]\n",
    "test_data = full_data[-int(test_size* len(full_data)):]\n",
    "\n",
    "# populate dictionaries with classifications 2 and 4 \n",
    "for i in train_data:\n",
    "    train_set[i[-1]].append(i[:-1]) \n",
    "\n",
    "for i in test_data:\n",
    "    test_set[i[-1]].append(i[:-1])\n"
   ]
  },
  {
   "cell_type": "code",
   "execution_count": 165,
   "metadata": {
    "collapsed": false
   },
   "outputs": [
    {
     "name": "stdout",
     "output_type": "stream",
     "text": [
      "(2, 1.0)\n",
      "(2, 1.0)\n",
      "(2, 1.0)\n",
      "(2, 1.0)\n",
      "(2, 1.0)\n",
      "(2, 1.0)\n",
      "(2, 1.0)\n",
      "(2, 1.0)\n",
      "(2, 1.0)\n",
      "(2, 1.0)\n",
      "(2, 1.0)\n",
      "(2, 1.0)\n",
      "(2, 1.0)\n",
      "(2, 1.0)\n",
      "(2, 1.0)\n",
      "(2, 1.0)\n",
      "(2, 1.0)\n",
      "(2, 1.0)\n",
      "(2, 1.0)\n",
      "(2, 1.0)\n",
      "(2, 1.0)\n",
      "(2, 1.0)\n",
      "(2, 1.0)\n",
      "(2, 1.0)\n",
      "(2, 1.0)\n",
      "(2, 1.0)\n",
      "(2, 1.0)\n",
      "(2, 1.0)\n",
      "(2, 1.0)\n",
      "(2, 1.0)\n",
      "(2, 1.0)\n",
      "(2, 1.0)\n",
      "(2, 1.0)\n",
      "(2, 1.0)\n",
      "(2, 1.0)\n",
      "(2, 1.0)\n",
      "(2, 1.0)\n",
      "(2, 1.0)\n",
      "(2, 1.0)\n",
      "(2, 1.0)\n",
      "(2, 1.0)\n",
      "(2, 1.0)\n",
      "(2, 1.0)\n",
      "(2, 1.0)\n",
      "(2, 1.0)\n",
      "(2, 0.6)\n",
      "(2, 1.0)\n",
      "(2, 1.0)\n",
      "(2, 1.0)\n",
      "(2, 1.0)\n",
      "(2, 1.0)\n",
      "(2, 1.0)\n",
      "(2, 1.0)\n",
      "(2, 1.0)\n",
      "(2, 1.0)\n",
      "(4, 0.6)\n",
      "incorrect\n",
      "(2, 1.0)\n",
      "(2, 1.0)\n",
      "(2, 1.0)\n",
      "(2, 1.0)\n",
      "(2, 1.0)\n",
      "(2, 1.0)\n",
      "(2, 1.0)\n",
      "(2, 1.0)\n",
      "(2, 1.0)\n",
      "(2, 1.0)\n",
      "(2, 1.0)\n",
      "(2, 1.0)\n",
      "(2, 1.0)\n",
      "(2, 1.0)\n",
      "(2, 1.0)\n",
      "(2, 1.0)\n",
      "(2, 1.0)\n",
      "(2, 1.0)\n",
      "(2, 1.0)\n",
      "(2, 1.0)\n",
      "(2, 1.0)\n",
      "(2, 1.0)\n",
      "(2, 1.0)\n",
      "(2, 1.0)\n",
      "(2, 1.0)\n",
      "(2, 1.0)\n",
      "(2, 1.0)\n",
      "(2, 1.0)\n",
      "(2, 0.6)\n",
      "(2, 1.0)\n",
      "(2, 1.0)\n",
      "(2, 1.0)\n",
      "(2, 1.0)\n",
      "(4, 1.0)\n",
      "(4, 1.0)\n",
      "(2, 1.0)\n",
      "incorrect\n",
      "(4, 1.0)\n",
      "(4, 1.0)\n",
      "(4, 1.0)\n",
      "(4, 1.0)\n",
      "(4, 0.6)\n",
      "(4, 1.0)\n",
      "(4, 1.0)\n",
      "(4, 1.0)\n",
      "(4, 1.0)\n",
      "(4, 0.8)\n",
      "(4, 0.8)\n",
      "(4, 1.0)\n",
      "(2, 0.6)\n",
      "incorrect\n",
      "(4, 1.0)\n",
      "(4, 1.0)\n",
      "(4, 0.6)\n",
      "(4, 1.0)\n",
      "(4, 1.0)\n",
      "(4, 1.0)\n",
      "(4, 1.0)\n",
      "(4, 1.0)\n",
      "(4, 1.0)\n",
      "(4, 1.0)\n",
      "(4, 0.8)\n",
      "(4, 0.8)\n",
      "(4, 0.8)\n",
      "(4, 1.0)\n",
      "(4, 0.6)\n",
      "(4, 1.0)\n",
      "(4, 1.0)\n",
      "(4, 1.0)\n",
      "(4, 1.0)\n",
      "(4, 0.8)\n",
      "(4, 1.0)\n",
      "(4, 0.8)\n",
      "(4, 1.0)\n",
      "(4, 1.0)\n",
      "(4, 1.0)\n",
      "(4, 0.6)\n",
      "(4, 1.0)\n",
      "(4, 1.0)\n",
      "(4, 0.8)\n",
      "(4, 1.0)\n",
      "(4, 1.0)\n",
      "(4, 1.0)\n",
      "(4, 1.0)\n",
      "(4, 1.0)\n",
      "136\n",
      "139\n",
      "Accuracy:\n",
      "0.978417266187\n"
     ]
    }
   ],
   "source": [
    "# TEST\n",
    "\n",
    "correct = 0\n",
    "total =0\n",
    "\n",
    "for group in test_set:\n",
    "    for data in test_set[group]:\n",
    "        vote, confidence = knn(train_set, data, k=5)\n",
    "        if group == vote:\n",
    "            correct = correct + 1\n",
    "        if group != vote:\n",
    "            print('incorrect')\n",
    "        total = total + 1\n",
    "        # print(group , vote)\n",
    "\n",
    "\n",
    "print(correct)\n",
    "print(total)\n",
    "print('Accuracy:')  \n",
    "print(correct/float(total)) "
   ]
  },
  {
   "cell_type": "code",
   "execution_count": null,
   "metadata": {
    "collapsed": true
   },
   "outputs": [],
   "source": []
  }
 ],
 "metadata": {
  "kernelspec": {
   "display_name": "Python 2",
   "language": "python",
   "name": "python2"
  },
  "language_info": {
   "codemirror_mode": {
    "name": "ipython",
    "version": 2
   },
   "file_extension": ".py",
   "mimetype": "text/x-python",
   "name": "python",
   "nbconvert_exporter": "python",
   "pygments_lexer": "ipython2",
   "version": "2.7.6"
  }
 },
 "nbformat": 4,
 "nbformat_minor": 1
}
